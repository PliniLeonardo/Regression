{
 "cells": [
  {
   "cell_type": "markdown",
   "metadata": {},
   "source": [
    "# Regression Modeling in Practice"
   ]
  },
  {
   "cell_type": "markdown",
   "metadata": {},
   "source": [
    "## Week 1"
   ]
  },
  {
   "cell_type": "code",
   "execution_count": 2,
   "metadata": {},
   "outputs": [],
   "source": [
    "import pandas as pd\n",
    "import numpy\n",
    "\n",
    "file=pd.read_csv('Alcohol.csv', sep=r'\\s*,\\s*',header=0, encoding='ascii', engine='python')"
   ]
  },
  {
   "cell_type": "code",
   "execution_count": 3,
   "metadata": {},
   "outputs": [],
   "source": [
    "#S2AQ21A HOW OFTEN DRANK ANY ALCOHOL DURING PERIOD OF HEAVIEST DRINKING\n",
    "#S1Q6A HIGHEST GRADE OR YEAR OF SCHOOL COMPLETED\n",
    "\n",
    "#Select columns\n",
    "\n",
    "df=file[['S2AQ21A','S1Q6A']]"
   ]
  },
  {
   "cell_type": "code",
   "execution_count": 4,
   "metadata": {},
   "outputs": [],
   "source": [
    "#rename columns\n",
    "df=df.rename(columns={'S2AQ21A':'alcoholic_score','S1Q6A':'school_level'})"
   ]
  },
  {
   "cell_type": "code",
   "execution_count": 5,
   "metadata": {},
   "outputs": [],
   "source": [
    "#eliminate Nan Values and type modifications\n",
    "import numpy as np\n",
    "df.alcoholic_score= df.alcoholic_score.replace(r'^\\s*$', np.nan, regex=True)\n",
    "df.school_level= df.school_level.replace(r'^\\s*$', np.nan, regex=True)\n",
    "df = df[df['alcoholic_score'].notna()]\n",
    "df = df[df['school_level'].notna()]\n",
    "df['alcoholic_score']=df['alcoholic_score'].astype(int)"
   ]
  },
  {
   "cell_type": "code",
   "execution_count": 6,
   "metadata": {},
   "outputs": [
    {
     "name": "stdout",
     "output_type": "stream",
     "text": [
      "total number of alcolist\n",
      "10302\n"
     ]
    }
   ],
   "source": [
    "alcolist=df[df['alcoholic_score']<4].count()\n",
    "print('total number of alcolist')\n",
    "print(alcolist[0])\n"
   ]
  },
  {
   "cell_type": "code",
   "execution_count": 7,
   "metadata": {},
   "outputs": [
    {
     "name": "stdout",
     "output_type": "stream",
     "text": [
      "percentage of each group\n",
      "[0.13754611 0.58930305 0.27315084]\n"
     ]
    }
   ],
   "source": [
    "#percentage of alcolist with lower school instruction\n",
    "a=df[(df['alcoholic_score']<4)&(df['school_level']<8)].count()\n",
    "#percentage of alcolist with medium school instruction\n",
    "b=df[(df['alcoholic_score']<4)&(df['school_level']>7)&(df['school_level']<12)].count()\n",
    "#percentage of alcolist with upper school instruction\n",
    "c=df[(df['alcoholic_score']<4)&(df['school_level']>11)].count()\n",
    "\n",
    "print('percentage of each group')\n",
    "print((a[0],b[0],c[0])/alcolist[0])"
   ]
  },
  {
   "cell_type": "code",
   "execution_count": null,
   "metadata": {},
   "outputs": [],
   "source": []
  }
 ],
 "metadata": {
  "kernelspec": {
   "display_name": "Python 3",
   "language": "python",
   "name": "python3"
  },
  "language_info": {
   "codemirror_mode": {
    "name": "ipython",
    "version": 3
   },
   "file_extension": ".py",
   "mimetype": "text/x-python",
   "name": "python",
   "nbconvert_exporter": "python",
   "pygments_lexer": "ipython3",
   "version": "3.8.5"
  }
 },
 "nbformat": 4,
 "nbformat_minor": 4
}
