{
 "cells": [
  {
   "cell_type": "markdown",
   "metadata": {},
   "source": [
    "# Regression Modeling in Practice"
   ]
  },
  {
   "cell_type": "markdown",
   "metadata": {},
   "source": [
    "## Week 1"
   ]
  },
  {
   "cell_type": "code",
   "execution_count": 2,
   "metadata": {},
   "outputs": [],
   "source": [
    "import pandas as pd\n",
    "import numpy\n",
    "\n",
    "file=pd.read_csv('Alcohol.csv', sep=r'\\s*,\\s*',header=0, encoding='ascii', engine='python')"
   ]
  },
  {
   "cell_type": "code",
   "execution_count": 3,
   "metadata": {},
   "outputs": [],
   "source": [
    "#S2AQ21A HOW OFTEN DRANK ANY ALCOHOL DURING PERIOD OF HEAVIEST DRINKING\n",
    "#S1Q6A HIGHEST GRADE OR YEAR OF SCHOOL COMPLETED\n",
    "\n",
    "#Select columns\n",
    "\n",
    "df=file[['S2AQ21A','S1Q6A']]"
   ]
  },
  {
   "cell_type": "code",
   "execution_count": 4,
   "metadata": {},
   "outputs": [],
   "source": [
    "#rename columns\n",
    "df=df.rename(columns={'S2AQ21A':'alcoholic_score','S1Q6A':'school_level'})"
   ]
  },
  {
   "cell_type": "code",
   "execution_count": 5,
   "metadata": {},
   "outputs": [],
   "source": [
    "#eliminate Nan Values and type modifications\n",
    "import numpy as np\n",
    "df.alcoholic_score= df.alcoholic_score.replace(r'^\\s*$', np.nan, regex=True)\n",
    "df.school_level= df.school_level.replace(r'^\\s*$', np.nan, regex=True)\n",
    "df = df[df['alcoholic_score'].notna()]\n",
    "df = df[df['school_level'].notna()]\n",
    "df['alcoholic_score']=df['alcoholic_score'].astype(int)"
   ]
  },
  {
   "cell_type": "code",
   "execution_count": 6,
   "metadata": {},
   "outputs": [
    {
     "name": "stdout",
     "output_type": "stream",
     "text": [
      "total number of alcolist\n",
      "10302\n"
     ]
    }
   ],
   "source": [
    "alcolist=df[df['alcoholic_score']<4].count()\n",
    "print('total number of alcolist')\n",
    "print(alcolist[0])\n"
   ]
  },
  {
   "cell_type": "code",
   "execution_count": 7,
   "metadata": {},
   "outputs": [
    {
     "name": "stdout",
     "output_type": "stream",
     "text": [
      "percentage of each group\n",
      "[0.13754611 0.58930305 0.27315084]\n"
     ]
    }
   ],
   "source": [
    "#percentage of alcolist with lower school instruction\n",
    "a=df[(df['alcoholic_score']<4)&(df['school_level']<8)].count()\n",
    "#percentage of alcolist with medium school instruction\n",
    "b=df[(df['alcoholic_score']<4)&(df['school_level']>7)&(df['school_level']<12)].count()\n",
    "#percentage of alcolist with upper school instruction\n",
    "c=df[(df['alcoholic_score']<4)&(df['school_level']>11)].count()\n",
    "\n",
    "print('percentage of each group')\n",
    "print((a[0],b[0],c[0])/alcolist[0])"
   ]
  },
  {
   "cell_type": "markdown",
   "metadata": {},
   "source": [
    "## Week 2"
   ]
  },
  {
   "cell_type": "code",
   "execution_count": 87,
   "metadata": {},
   "outputs": [],
   "source": [
    "#import libraries\n",
    "import statsmodels.api \n",
    "import statsmodels.formula.api as smf\n",
    "import seaborn\n",
    "import matplotlib.pyplot as plt\n"
   ]
  },
  {
   "cell_type": "code",
   "execution_count": 88,
   "metadata": {},
   "outputs": [
    {
     "data": {
      "text/html": [
       "<div>\n",
       "<style scoped>\n",
       "    .dataframe tbody tr th:only-of-type {\n",
       "        vertical-align: middle;\n",
       "    }\n",
       "\n",
       "    .dataframe tbody tr th {\n",
       "        vertical-align: top;\n",
       "    }\n",
       "\n",
       "    .dataframe thead th {\n",
       "        text-align: right;\n",
       "    }\n",
       "</style>\n",
       "<table border=\"1\" class=\"dataframe\">\n",
       "  <thead>\n",
       "    <tr style=\"text-align: right;\">\n",
       "      <th></th>\n",
       "      <th>cigarettes</th>\n",
       "      <th>drinks</th>\n",
       "    </tr>\n",
       "  </thead>\n",
       "  <tbody>\n",
       "    <tr>\n",
       "      <th>0</th>\n",
       "      <td>NaN</td>\n",
       "      <td>NaN</td>\n",
       "    </tr>\n",
       "    <tr>\n",
       "      <th>1</th>\n",
       "      <td>NaN</td>\n",
       "      <td>1.0</td>\n",
       "    </tr>\n",
       "    <tr>\n",
       "      <th>2</th>\n",
       "      <td>NaN</td>\n",
       "      <td>NaN</td>\n",
       "    </tr>\n",
       "    <tr>\n",
       "      <th>3</th>\n",
       "      <td>NaN</td>\n",
       "      <td>NaN</td>\n",
       "    </tr>\n",
       "  </tbody>\n",
       "</table>\n",
       "</div>"
      ],
      "text/plain": [
       "   cigarettes  drinks\n",
       "0         NaN     NaN\n",
       "1         NaN     1.0\n",
       "2         NaN     NaN\n",
       "3         NaN     NaN"
      ]
     },
     "execution_count": 88,
     "metadata": {},
     "output_type": "execute_result"
    }
   ],
   "source": [
    "# S3AQ3C1 USUAL QUANTITY WHEN SMOKED CIGARETTES\n",
    "#S2AQ8B NUMBER OF DRINKS OF ANY ALCOHOL USUALLY CONSUMED ON DAYS WHEN DRANK ALCOHOL IN LAST 12 MONTHS\n",
    "df=file[['S3AQ3C1','S2AQ8B']]\n",
    "#rename columns\n",
    "df=df.rename(columns={'S3AQ3C1':'cigarettes','S2AQ8B':'drinks'})\n",
    "df.head(4)"
   ]
  },
  {
   "cell_type": "code",
   "execution_count": 45,
   "metadata": {},
   "outputs": [],
   "source": [
    "#eliminate Nan Values and type modifications\n",
    "\n",
    "df.cigarettes= df.cigarettes.replace(r'^\\s*$', np.nan, regex=True)\n",
    "df.drinks= df.drinks.replace(r'^\\s*$', np.nan, regex=True)\n",
    "df = df[df['cigarettes'].notna()]\n",
    "df = df[df['drinks'].notna()]\n",
    "df['cigarettes']=df['cigarettes'].astype(int)\n",
    "df['drinks']=df['drinks'].astype(int)\n",
    "#eliminate unknown rows\n",
    "df.drop(df.index[(df[\"cigarettes\"] == 99)|(df[\"drinks\"] == 99)],axis=0,inplace=True)\n"
   ]
  },
  {
   "cell_type": "code",
   "execution_count": 123,
   "metadata": {},
   "outputs": [],
   "source": [
    "#subtract the mean from the explanatory variable\n",
    "mean=df['cigarettes'].mean()\n",
    "df['cigarettes']=df['cigarettes']-mean\n"
   ]
  },
  {
   "cell_type": "code",
   "execution_count": 52,
   "metadata": {},
   "outputs": [
    {
     "name": "stdout",
     "output_type": "stream",
     "text": [
      "AxesSubplot(0.125,0.125;0.775x0.755)\n"
     ]
    },
    {
     "data": {
      "image/png": "[encoded data removed]",
      "text/plain": [
       "<Figure size 432x288 with 1 Axes>"
      ]
     },
     "metadata": {
      "needs_background": "light"
     },
     "output_type": "display_data"
    }
   ],
   "source": [
    "#Basic linear regression\n",
    "scat=seaborn.regplot(x=\"cigarettes\",y=\"drinks\",data=df,scatter=True)\n",
    "plt.title('Scatterplot for the association between cigarettes smoked and drinks consumed')\n",
    "print(scat)"
   ]
  },
  {
   "cell_type": "code",
   "execution_count": 54,
   "metadata": {},
   "outputs": [
    {
     "data": {
      "text/html": [
       "<div>\n",
       "<style scoped>\n",
       "    .dataframe tbody tr th:only-of-type {\n",
       "        vertical-align: middle;\n",
       "    }\n",
       "\n",
       "    .dataframe tbody tr th {\n",
       "        vertical-align: top;\n",
       "    }\n",
       "\n",
       "    .dataframe thead th {\n",
       "        text-align: right;\n",
       "    }\n",
       "</style>\n",
       "<table border=\"1\" class=\"dataframe\">\n",
       "  <thead>\n",
       "    <tr style=\"text-align: right;\">\n",
       "      <th></th>\n",
       "      <th>cigarettes</th>\n",
       "      <th>drinks</th>\n",
       "    </tr>\n",
       "  </thead>\n",
       "  <tbody>\n",
       "    <tr>\n",
       "      <th>11822</th>\n",
       "      <td>14.963965</td>\n",
       "      <td>98</td>\n",
       "    </tr>\n",
       "  </tbody>\n",
       "</table>\n",
       "</div>"
      ],
      "text/plain": [
       "       cigarettes  drinks\n",
       "11822   14.963965      98"
      ]
     },
     "execution_count": 54,
     "metadata": {},
     "output_type": "execute_result"
    }
   ],
   "source": [
    "#outlier\n",
    "c=df[df['drinks']>90]\n",
    "c"
   ]
  },
  {
   "cell_type": "code",
   "execution_count": 55,
   "metadata": {},
   "outputs": [
    {
     "name": "stdout",
     "output_type": "stream",
     "text": [
      "OLS regression model for the association between smoking and drinking\n",
      "                            OLS Regression Results                            \n",
      "==============================================================================\n",
      "Dep. Variable:                 drinks   R-squared:                       0.003\n",
      "Model:                            OLS   Adj. R-squared:                  0.003\n",
      "Method:                 Least Squares   F-statistic:                     36.86\n",
      "Date:                Tue, 16 Feb 2021   Prob (F-statistic):           1.30e-09\n",
      "Time:                        11:39:19   Log-Likelihood:                -30831.\n",
      "No. Observations:               12682   AIC:                         6.167e+04\n",
      "Df Residuals:                   12680   BIC:                         6.168e+04\n",
      "Df Model:                           1                                         \n",
      "Covariance Type:            nonrobust                                         \n",
      "==============================================================================\n",
      "                 coef    std err          t      P>|t|      [0.025      0.975]\n",
      "------------------------------------------------------------------------------\n",
      "Intercept      2.8506      0.024    116.664      0.000       2.803       2.898\n",
      "cigarettes     0.0124      0.002      6.072      0.000       0.008       0.016\n",
      "==============================================================================\n",
      "Omnibus:                    16004.826   Durbin-Watson:                   1.981\n",
      "Prob(Omnibus):                  0.000   Jarque-Bera (JB):          9142975.308\n",
      "Skew:                           6.439   Prob(JB):                         0.00\n",
      "Kurtosis:                     133.907   Cond. No.                         12.0\n",
      "==============================================================================\n",
      "\n",
      "Notes:\n",
      "[1] Standard Errors assume that the covariance matrix of the errors is correctly specified.\n",
      "\n",
      "\n",
      "the mean is: -1.2791723208191316e-13 almost 0\n"
     ]
    }
   ],
   "source": [
    "print('OLS regression model for the association between smoking and drinking')\n",
    "reg=smf.ols('drinks~cigarettes',data=df).fit()\n",
    "print(reg.summary())\n",
    "print()\n",
    "print()\n",
    "print('the mean is:',df['cigarettes'].mean() ,'almost 0')"
   ]
  },
  {
   "cell_type": "code",
   "execution_count": 56,
   "metadata": {},
   "outputs": [
    {
     "name": "stdout",
     "output_type": "stream",
     "text": [
      "The results of the linear regression model indicated that number of drinks (Beta=0.0124, p=.0001) was significantly and  low positively associated with number of cigarettes smoked\n"
     ]
    }
   ],
   "source": [
    "print('The results of the linear regression model indicated that number of drinks (Beta=0.0124, p=.0001) was significantly and  low positively associated with number of cigarettes smoked')"
   ]
  },
  {
   "cell_type": "markdown",
   "metadata": {},
   "source": [
    "## Week 3"
   ]
  },
  {
   "cell_type": "code",
   "execution_count": 244,
   "metadata": {},
   "outputs": [],
   "source": [
    "#import libraries\n",
    "import statsmodels.api \n",
    "import statsmodels.formula.api as smf\n",
    "import seaborn\n",
    "import matplotlib.pyplot as plt\n"
   ]
  },
  {
   "cell_type": "code",
   "execution_count": 245,
   "metadata": {},
   "outputs": [
    {
     "data": {
      "text/html": [
       "<div>\n",
       "<style scoped>\n",
       "    .dataframe tbody tr th:only-of-type {\n",
       "        vertical-align: middle;\n",
       "    }\n",
       "\n",
       "    .dataframe tbody tr th {\n",
       "        vertical-align: top;\n",
       "    }\n",
       "\n",
       "    .dataframe thead th {\n",
       "        text-align: right;\n",
       "    }\n",
       "</style>\n",
       "<table border=\"1\" class=\"dataframe\">\n",
       "  <thead>\n",
       "    <tr style=\"text-align: right;\">\n",
       "      <th></th>\n",
       "      <th>cigarettes</th>\n",
       "      <th>nicotine_dipendence</th>\n",
       "      <th>drugs</th>\n",
       "      <th>depression</th>\n",
       "      <th>alc_dip</th>\n",
       "    </tr>\n",
       "  </thead>\n",
       "  <tbody>\n",
       "    <tr>\n",
       "      <th>0</th>\n",
       "      <td>NaN</td>\n",
       "      <td>0</td>\n",
       "      <td>2</td>\n",
       "      <td>2</td>\n",
       "      <td>NaN</td>\n",
       "    </tr>\n",
       "    <tr>\n",
       "      <th>1</th>\n",
       "      <td>NaN</td>\n",
       "      <td>0</td>\n",
       "      <td>2</td>\n",
       "      <td>2</td>\n",
       "      <td>NaN</td>\n",
       "    </tr>\n",
       "    <tr>\n",
       "      <th>2</th>\n",
       "      <td>NaN</td>\n",
       "      <td>0</td>\n",
       "      <td>2</td>\n",
       "      <td>2</td>\n",
       "      <td>NaN</td>\n",
       "    </tr>\n",
       "    <tr>\n",
       "      <th>3</th>\n",
       "      <td>NaN</td>\n",
       "      <td>0</td>\n",
       "      <td>2</td>\n",
       "      <td>2</td>\n",
       "      <td>NaN</td>\n",
       "    </tr>\n",
       "    <tr>\n",
       "      <th>4</th>\n",
       "      <td>NaN</td>\n",
       "      <td>0</td>\n",
       "      <td>2</td>\n",
       "      <td>2</td>\n",
       "      <td>NaN</td>\n",
       "    </tr>\n",
       "    <tr>\n",
       "      <th>5</th>\n",
       "      <td>NaN</td>\n",
       "      <td>0</td>\n",
       "      <td>2</td>\n",
       "      <td>2</td>\n",
       "      <td>1.0</td>\n",
       "    </tr>\n",
       "    <tr>\n",
       "      <th>6</th>\n",
       "      <td>NaN</td>\n",
       "      <td>0</td>\n",
       "      <td>2</td>\n",
       "      <td>1</td>\n",
       "      <td>NaN</td>\n",
       "    </tr>\n",
       "    <tr>\n",
       "      <th>7</th>\n",
       "      <td>NaN</td>\n",
       "      <td>0</td>\n",
       "      <td>2</td>\n",
       "      <td>2</td>\n",
       "      <td>NaN</td>\n",
       "    </tr>\n",
       "    <tr>\n",
       "      <th>8</th>\n",
       "      <td>NaN</td>\n",
       "      <td>0</td>\n",
       "      <td>2</td>\n",
       "      <td>1</td>\n",
       "      <td>NaN</td>\n",
       "    </tr>\n",
       "    <tr>\n",
       "      <th>9</th>\n",
       "      <td>NaN</td>\n",
       "      <td>0</td>\n",
       "      <td>2</td>\n",
       "      <td>2</td>\n",
       "      <td>1.0</td>\n",
       "    </tr>\n",
       "  </tbody>\n",
       "</table>\n",
       "</div>"
      ],
      "text/plain": [
       "   cigarettes  nicotine_dipendence  drugs  depression  alc_dip\n",
       "0         NaN                    0      2           2      NaN\n",
       "1         NaN                    0      2           2      NaN\n",
       "2         NaN                    0      2           2      NaN\n",
       "3         NaN                    0      2           2      NaN\n",
       "4         NaN                    0      2           2      NaN\n",
       "5         NaN                    0      2           2      1.0\n",
       "6         NaN                    0      2           1      NaN\n",
       "7         NaN                    0      2           2      NaN\n",
       "8         NaN                    0      2           1      NaN\n",
       "9         NaN                    0      2           2      1.0"
      ]
     },
     "execution_count": 245,
     "metadata": {},
     "output_type": "execute_result"
    }
   ],
   "source": [
    "#S3BQ1A10A EVER USED OTHER DRUGS\n",
    "#S4AQ1 EVER HAD 2-WEEK PERIOD WHEN FELT SAD, BLUE, DEPRESSED, OR DOWN MOST OF TIME\n",
    "# S3AQ3C1 USUAL QUANTITY WHEN SMOKED CIGARETTES\n",
    "#TABLIFEDX NICOTINE DEPENDENCE - LIFETIME\n",
    "#S2BQ2E NUMBER OF EPISODES OF ALCOHOL DEPENDENCE\n",
    "df=file[['S3AQ3C1','TABLIFEDX','S3BQ1A10A','S4AQ1','S2BQ2E']]\n",
    "#rename columns\n",
    "df=df.rename(columns={'S2BQ2E':'alc_dip','S3AQ3C1':'cigarettes','TABLIFEDX':'nicotine_dipendence','S3BQ1A10A':'drugs','S4AQ1':'depression'})\n",
    "df.head(10)"
   ]
  },
  {
   "cell_type": "code",
   "execution_count": 263,
   "metadata": {},
   "outputs": [],
   "source": [
    "#eliminate Nan Values and type modifications\n",
    "\n",
    "df.cigarettes= df.cigarettes.replace(r'^\\s*$', np.nan, regex=True)\n",
    "df.nicotine_dipendence= df.nicotine_dipendence.replace(r'^\\s*$', np.nan, regex=True)\n",
    "df.drugs= df.drugs.replace(r'^\\s*$', np.nan, regex=True)\n",
    "df.depression= df.depression.replace(r'^\\s*$', np.nan, regex=True)\n",
    "df.alc_dip= df.alc_dip.replace(r'^\\s*$', np.nan, regex=True)\n",
    "\n",
    "df = df[df['cigarettes'].notna()]\n",
    "df = df[df['nicotine_dipendence'].notna()]\n",
    "df = df[df['drugs'].notna()]\n",
    "df = df[df['depression'].notna()]\n",
    "df = df[df['alc_dip'].notna()]\n",
    "\n",
    "df['cigarettes']=df['cigarettes'].astype(int)\n",
    "df['nicotine_dipendence']=df['nicotine_dipendence'].astype(int)\n",
    "df['drugs']=df['drugs'].astype(int)\n",
    "df['depression']=df['depression'].astype(int)\n",
    "df['alc_dip']=df['alc_dip'].astype(int)\n",
    "\n",
    "\n",
    "#eliminate unknown rows\n",
    "df.drop(df.index[(df[\"cigarettes\"] == 99)|(df[\"alc_dip\"] == 99)|(df[\"drugs\"] == 9)|(df[\"depression\"] == 9)],axis=0,inplace=True)\n"
   ]
  },
  {
   "cell_type": "code",
   "execution_count": 264,
   "metadata": {},
   "outputs": [],
   "source": [
    "#replace 2 with 0\n",
    "df[\"drugs\"].replace({2: 0}, inplace=True)\n",
    "df[\"depression\"].replace({2: 0}, inplace=True)\n"
   ]
  },
  {
   "cell_type": "code",
   "execution_count": 265,
   "metadata": {},
   "outputs": [],
   "source": [
    "#subtract the mean from the explanatory variable\n",
    "mean=df['alc_dip'].mean()\n",
    "df['alc_dip']=df['alc_dip']-mean\n",
    "\n"
   ]
  },
  {
   "cell_type": "code",
   "execution_count": 266,
   "metadata": {},
   "outputs": [],
   "source": [
    "df['alc_dip']=df['alc_dip'].head(500)\n",
    "df['cigarettes']=df['cigarettes'].head(500)\n",
    "df['nicotine_dipendence']=df['nicotine_dipendence'].head(500)\n",
    "df['drugs']=df['drugs'].head(500)\n",
    "df['depression']=df['depression'].head(500)"
   ]
  },
  {
   "cell_type": "code",
   "execution_count": 267,
   "metadata": {},
   "outputs": [
    {
     "name": "stdout",
     "output_type": "stream",
     "text": [
      "                            OLS Regression Results                            \n",
      "==============================================================================\n",
      "Dep. Variable:             cigarettes   R-squared:                       0.042\n",
      "Model:                            OLS   Adj. R-squared:                  0.037\n",
      "Method:                 Least Squares   F-statistic:                     7.319\n",
      "Date:                Wed, 17 Feb 2021   Prob (F-statistic):           8.26e-05\n",
      "Time:                        11:37:07   Log-Likelihood:                -1935.8\n",
      "No. Observations:                 500   AIC:                             3880.\n",
      "Df Residuals:                     496   BIC:                             3896.\n",
      "Df Model:                           3                                         \n",
      "Covariance Type:            nonrobust                                         \n",
      "=======================================================================================\n",
      "                          coef    std err          t      P>|t|      [0.025      0.975]\n",
      "---------------------------------------------------------------------------------------\n",
      "Intercept              10.8613      0.626     17.359      0.000       9.632      12.091\n",
      "drugs                  -5.0872      6.764     -0.752      0.452     -18.378       8.203\n",
      "depression              1.7919      0.550      3.260      0.001       0.712       2.872\n",
      "alc_dip                 2.1833      0.586      3.724      0.000       1.031       3.335\n",
      "nicotine_dipendence     5.0633      1.109      4.564      0.000       2.883       7.243\n",
      "==============================================================================\n",
      "Omnibus:                      295.837   Durbin-Watson:                   1.877\n",
      "Prob(Omnibus):                  0.000   Jarque-Bera (JB):             3135.374\n",
      "Skew:                           2.405   Prob(JB):                         0.00\n",
      "Kurtosis:                      14.285   Cond. No.                     9.39e+15\n",
      "==============================================================================\n",
      "\n",
      "Notes:\n",
      "[1] Standard Errors assume that the covariance matrix of the errors is correctly specified.\n",
      "[2] The smallest eigenvalue is 7.69e-30. This might indicate that there are\n",
      "strong multicollinearity problems or that the design matrix is singular.\n"
     ]
    }
   ],
   "source": [
    "#regression\n",
    "reg=smf.ols('cigarettes~drugs+depression+alc_dip+nicotine_dipendence',data=df).fit()\n",
    "print(reg.summary())"
   ]
  },
  {
   "cell_type": "code",
   "execution_count": 268,
   "metadata": {},
   "outputs": [
    {
     "name": "stdout",
     "output_type": "stream",
     "text": [
      "the model has coef=(1.82,2.48,4,29,2.08) and p-value(0,0.452,0,0) that suggests that there is not a strong evidence for drug and it could be a confounding variable. There is a strong collinearity which make me think about the capacity of the model so I continue with some other graphics\n"
     ]
    }
   ],
   "source": [
    "print( 'the model has coef=(1.82,2.48,4,29,2.08) and p-value(0,0.452,0,0) that suggests that there is not a strong evidence for drug and it could be a confounding variable. There is a strong collinearity which make me think about the capacity of the model so I continue with some other graphics')"
   ]
  },
  {
   "cell_type": "code",
   "execution_count": 269,
   "metadata": {},
   "outputs": [
    {
     "name": "stdout",
     "output_type": "stream",
     "text": [
      " residuals do not follow normal distribution\n"
     ]
    },
    {
     "data": {
      "image/png": "[encoded data removed]",
      "text/plain": [
       "<Figure size 432x288 with 1 Axes>"
      ]
     },
     "metadata": {
      "needs_background": "light"
     },
     "output_type": "display_data"
    }
   ],
   "source": [
    "## qqplot\n",
    "fig=statsmodels.graphics.gofplots.qqplot(reg.resid,line='r')\n",
    "print(' residuals do not follow normal distribution')"
   ]
  },
  {
   "cell_type": "code",
   "execution_count": 270,
   "metadata": {},
   "outputs": [
    {
     "data": {
      "image/png": "[encoded data removed]",
      "text/plain": [
       "<Figure size 432x288 with 1 Axes>"
      ]
     },
     "metadata": {
      "needs_background": "light"
     },
     "output_type": "display_data"
    }
   ],
   "source": [
    "#plot of residuals\n",
    "stdres=pd.DataFrame(reg.resid_pearson)\n",
    "fig2=plt.plot(stdres,'o',ls='None')\n",
    "l=plt.axhline(y=0,color='r')"
   ]
  },
  {
   "cell_type": "code",
   "execution_count": 271,
   "metadata": {},
   "outputs": [],
   "source": [
    "#other regression diagnostic plot\n",
    "#figure=plt.figure(figsize(12,8))\n",
    "#fig=statsmodels.graphics.regressionplots.plot_regress_exog(reg,'alc_dip')"
   ]
  },
  {
   "cell_type": "code",
   "execution_count": 272,
   "metadata": {},
   "outputs": [
    {
     "name": "stdout",
     "output_type": "stream",
     "text": [
      "the model has diffulties to intepret the response variable for the absence of normal distribution in errors.A deeper analysis is required to investigate the nature of the problem:one could be that the variable alc_dip assumes valuens between 1-98 but just values between 1 and 2 are realistic\n"
     ]
    }
   ],
   "source": [
    "print('the model has diffulties to intepret the response variable for the absence of normal distribution in errors.A deeper analysis is required to investigate the nature of the problem:one could be that the variable alc_dip assumes valuens between 1-98 but just values between 1 and 2 are realistic')"
   ]
  },
  {
   "cell_type": "markdown",
   "metadata": {},
   "source": [
    "## Week 4"
   ]
  },
  {
   "cell_type": "code",
   "execution_count": 303,
   "metadata": {},
   "outputs": [],
   "source": [
    "#negotine dependence with number of cigarettes\n",
    "#import libraries\n",
    "import statsmodels.api \n",
    "import statsmodels.formula.api as smf\n",
    "import seaborn\n",
    "import matplotlib.pyplot as plt"
   ]
  },
  {
   "cell_type": "code",
   "execution_count": 312,
   "metadata": {},
   "outputs": [],
   "source": [
    "#S4AQ1 EVER HAD 2-WEEK PERIOD WHEN FELT SAD, BLUE, DEPRESSED, OR DOWN MOST OF TIME\n",
    "# S3AQ3C1 USUAL QUANTITY WHEN SMOKED CIGARETTES\n",
    "#TABLIFEDX NICOTINE DEPENDENCE - LIFETIME\n",
    "\n",
    "df=file[['S3AQ3C1','TABLIFEDX','S3BQ1A10A','S4AQ1','S2BQ2E']]\n",
    "#rename columns\n",
    "df=df.rename(columns={'S3AQ3C1':'cigarettes','TABLIFEDX':'nicotine_dipendence','S4AQ1':'depression'})\n"
   ]
  },
  {
   "cell_type": "code",
   "execution_count": 305,
   "metadata": {},
   "outputs": [],
   "source": [
    "#eliminate Nan Values and type modifications\n",
    "\n",
    "df.cigarettes= df.cigarettes.replace(r'^\\s*$', np.nan, regex=True)\n",
    "df.nicotine_dipendence= df.nicotine_dipendence.replace(r'^\\s*$', np.nan, regex=True)\n",
    "df.depression= df.depression.replace(r'^\\s*$', np.nan, regex=True)\n",
    "\n",
    "\n",
    "df = df[df['cigarettes'].notna()]\n",
    "df = df[df['nicotine_dipendence'].notna()]\n",
    "df = df[df['depression'].notna()]\n",
    "\n",
    "df['cigarettes']=df['cigarettes'].astype(int)\n",
    "df['nicotine_dipendence']=df['nicotine_dipendence'].astype(int)\n",
    "df['depression']=df['depression'].astype(int)\n",
    "\n",
    "#eliminate unknown rows\n",
    "df.drop(df.index[(df[\"cigarettes\"] == 99)|(df[\"depression\"] == 9)],axis=0,inplace=True)\n"
   ]
  },
  {
   "cell_type": "code",
   "execution_count": 306,
   "metadata": {},
   "outputs": [],
   "source": [
    "#replace 2 with 0\n",
    "\n",
    "df[\"depression\"].replace({2: 0}, inplace=True)\n"
   ]
  },
  {
   "cell_type": "code",
   "execution_count": null,
   "metadata": {},
   "outputs": [],
   "source": []
  },
  {
   "cell_type": "code",
   "execution_count": 307,
   "metadata": {},
   "outputs": [
    {
     "name": "stdout",
     "output_type": "stream",
     "text": [
      "Optimization terminated successfully.\n",
      "         Current function value: 0.631726\n",
      "         Iterations 5\n",
      "                            Logit Regression Results                           \n",
      "===============================================================================\n",
      "Dep. Variable:     nicotine_dipendence   No. Observations:                17558\n",
      "Model:                           Logit   Df Residuals:                    17555\n",
      "Method:                            MLE   Df Model:                            2\n",
      "Date:                 Wed, 17 Feb 2021   Pseudo R-squ.:                 0.04724\n",
      "Time:                         11:57:24   Log-Likelihood:                -11092.\n",
      "converged:                        True   LL-Null:                       -11642.\n",
      "Covariance Type:             nonrobust   LLR p-value:                1.390e-239\n",
      "==============================================================================\n",
      "                 coef    std err          z      P>|z|      [0.025      0.975]\n",
      "------------------------------------------------------------------------------\n",
      "Intercept     -1.2353      0.030    -41.798      0.000      -1.293      -1.177\n",
      "depression     0.8055      0.033     24.374      0.000       0.741       0.870\n",
      "cigarettes     0.0277      0.001     21.045      0.000       0.025       0.030\n",
      "==============================================================================\n"
     ]
    }
   ],
   "source": [
    "#logistic regression\n",
    "lreg=smf.logit(formula='nicotine_dipendence~depression+cigarettes',data=df).fit()\n",
    "print(lreg.summary())"
   ]
  },
  {
   "cell_type": "code",
   "execution_count": 308,
   "metadata": {},
   "outputs": [
    {
     "name": "stdout",
     "output_type": "stream",
     "text": [
      "            Lower CI     Upper        OR\n",
      "Intercept   0.274387  0.308089  0.290750\n",
      "depression  2.097481  2.387582  2.237835\n",
      "cigarettes  1.025393  1.030689  1.028038\n"
     ]
    }
   ],
   "source": [
    "#odds ratio with 95% confidence intervals\n",
    "params=lreg.params\n",
    "conf=lreg.conf_int()\n",
    "conf['OR']=params\n",
    "conf = conf.rename(columns={0: 'Lower CI', 1: 'Upper'})\n",
    "#conf.columns['1','2','OR']\n",
    "print(numpy.exp(conf))"
   ]
  },
  {
   "cell_type": "code",
   "execution_count": 309,
   "metadata": {},
   "outputs": [
    {
     "name": "stdout",
     "output_type": "stream",
     "text": [
      "Optimization terminated successfully.\n",
      "         Current function value: 0.648762\n",
      "         Iterations 5\n",
      "                            Logit Regression Results                           \n",
      "===============================================================================\n",
      "Dep. Variable:     nicotine_dipendence   No. Observations:                17558\n",
      "Model:                           Logit   Df Residuals:                    17556\n",
      "Method:                            MLE   Df Model:                            1\n",
      "Date:                 Wed, 17 Feb 2021   Pseudo R-squ.:                 0.02155\n",
      "Time:                         11:57:25   Log-Likelihood:                -11391.\n",
      "converged:                        True   LL-Null:                       -11642.\n",
      "Covariance Type:             nonrobust   LLR p-value:                3.980e-111\n",
      "==============================================================================\n",
      "                 coef    std err          z      P>|z|      [0.025      0.975]\n",
      "------------------------------------------------------------------------------\n",
      "Intercept     -0.9470      0.026    -36.250      0.000      -0.998      -0.896\n",
      "cigarettes     0.0282      0.001     21.765      0.000       0.026       0.031\n",
      "==============================================================================\n",
      "\n",
      "            Lower CI     Upper        OR\n",
      "Intercept   0.368553  0.408293  0.387914\n",
      "cigarettes  1.025977  1.031198  1.028584\n"
     ]
    }
   ],
   "source": [
    "#logistic regression\n",
    "lreg=smf.logit(formula='nicotine_dipendence~cigarettes',data=df).fit()\n",
    "print(lreg.summary())\n",
    "print()\n",
    "#odds ratio with 95% confidence intervals\n",
    "params=lreg.params\n",
    "conf=lreg.conf_int()\n",
    "conf['OR']=params\n",
    "conf = conf.rename(columns={0: 'Lower CI', 1: 'Upper'})\n",
    "#conf.columns['1','2','OR']\n",
    "print(numpy.exp(conf))\n"
   ]
  },
  {
   "cell_type": "code",
   "execution_count": 310,
   "metadata": {},
   "outputs": [
    {
     "name": "stdout",
     "output_type": "stream",
     "text": [
      "Optimization terminated successfully.\n",
      "         Current function value: 0.645016\n",
      "         Iterations 5\n",
      "                            Logit Regression Results                           \n",
      "===============================================================================\n",
      "Dep. Variable:     nicotine_dipendence   No. Observations:                17558\n",
      "Model:                           Logit   Df Residuals:                    17556\n",
      "Method:                            MLE   Df Model:                            1\n",
      "Date:                 Wed, 17 Feb 2021   Pseudo R-squ.:                 0.02720\n",
      "Time:                         11:57:25   Log-Likelihood:                -11325.\n",
      "converged:                        True   LL-Null:                       -11642.\n",
      "Covariance Type:             nonrobust   LLR p-value:                9.541e-140\n",
      "==============================================================================\n",
      "                 coef    std err          z      P>|z|      [0.025      0.975]\n",
      "------------------------------------------------------------------------------\n",
      "Intercept     -0.7991      0.020    -39.531      0.000      -0.839      -0.759\n",
      "depression     0.8171      0.033     25.070      0.000       0.753       0.881\n",
      "==============================================================================\n",
      "\n",
      "            Lower CI     Upper        OR\n",
      "Intercept   0.432270  0.467916  0.449740\n",
      "depression  2.123743  2.413151  2.263827\n"
     ]
    }
   ],
   "source": [
    "\n",
    "#logistic regression\n",
    "lreg=smf.logit(formula='nicotine_dipendence~depression',data=df).fit()\n",
    "print(lreg.summary())\n",
    "print()\n",
    "#odds ratio with 95% confidence intervals\n",
    "params=lreg.params\n",
    "conf=lreg.conf_int()\n",
    "conf['OR']=params\n",
    "conf = conf.rename(columns={0: 'Lower CI', 1: 'Upper'})\n",
    "#conf.columns['1','2','OR']\n",
    "print(numpy.exp(conf))\n"
   ]
  },
  {
   "cell_type": "code",
   "execution_count": null,
   "metadata": {},
   "outputs": [],
   "source": [
    "#Results\n",
    "Depression and cigarettes are valid variables with a p_value smaller than 0.001 with an odds ratio of (2.6459,1.0376) and confidence intervals\n",
    "([1.7978,3.8939],[1.0199,1.055]).\n",
    "This supports the hyphothesis of association between depression,cigarettes smoked and nicotine dependence.\n",
    "There is not evidence of confounding for the association between your primary explanatory and the response variable as the other logistic regressions\n",
    "and odds ratio show"
   ]
  },
  {
   "cell_type": "code",
   "execution_count": null,
   "metadata": {},
   "outputs": [],
   "source": []
  },
  {
   "cell_type": "code",
   "execution_count": null,
   "metadata": {},
   "outputs": [],
   "source": []
  },
  {
   "cell_type": "code",
   "execution_count": null,
   "metadata": {},
   "outputs": [],
   "source": []
  }
 ],
 "metadata": {
  "kernelspec": {
   "display_name": "Python 3",
   "language": "python",
   "name": "python3"
  },
  "language_info": {
   "codemirror_mode": {
    "name": "ipython",
    "version": 3
   },
   "file_extension": ".py",
   "mimetype": "text/x-python",
   "name": "python",
   "nbconvert_exporter": "python",
   "pygments_lexer": "ipython3",
   "version": "3.8.5"
  }
 },
 "nbformat": 4,
 "nbformat_minor": 4
}
